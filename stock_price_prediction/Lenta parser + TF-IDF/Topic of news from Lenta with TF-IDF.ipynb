{
 "cells": [
  {
   "cell_type": "code",
   "execution_count": 78,
   "metadata": {},
   "outputs": [
    {
     "name": "stdout",
     "output_type": "stream",
     "text": [
      "Populating the interactive namespace from numpy and matplotlib\n"
     ]
    },
    {
     "name": "stderr",
     "output_type": "stream",
     "text": [
      "[nltk_data] Downloading package punkt to /Users/grigoryan/nltk_data...\n",
      "[nltk_data]   Package punkt is already up-to-date!\n"
     ]
    }
   ],
   "source": [
    "import pandas as pd\n",
    "import matplotlib.pyplot as plt\n",
    "import numpy as np\n",
    "import string\n",
    "\n",
    "import scipy\n",
    "\n",
    "from sklearn.linear_model import LinearRegression, Ridge, Lasso\n",
    "from sklearn.feature_extraction.text import TfidfVectorizer, CountVectorizer\n",
    "from tqdm import tqdm\n",
    "\n",
    "import datetime\n",
    "\n",
    "import warnings\n",
    "warnings.filterwarnings('ignore')\n",
    "\n",
    "%pylab inline\n",
    "\n",
    "\n",
    "import nltk\n",
    "nltk.download('punkt')\n",
    "from nltk.stem.snowball import SnowballStemmer\n",
    "\n",
    "from nltk.tokenize import word_tokenize\n",
    "from nltk.corpus import stopwords\n",
    "from nltk.tokenize import WordPunctTokenizer"
   ]
  },
  {
   "cell_type": "code",
   "execution_count": 6,
   "metadata": {},
   "outputs": [],
   "source": [
    "lenta = pd.read_csv('Lenta_news.csv')"
   ]
  },
  {
   "cell_type": "code",
   "execution_count": 7,
   "metadata": {},
   "outputs": [],
   "source": [
    "lenta = lenta[['Title', 'Date']]"
   ]
  },
  {
   "cell_type": "code",
   "execution_count": 8,
   "metadata": {},
   "outputs": [
    {
     "name": "stderr",
     "output_type": "stream",
     "text": [
      "100%|██████████| 494726/494726 [01:38<00:00, 5039.88it/s]\n"
     ]
    }
   ],
   "source": [
    "for x in tqdm(range(len(lenta))):\n",
    "    lenta.iloc[x].Title = lenta.iloc[x].Title.replace('\\xa0', ' ')"
   ]
  },
  {
   "cell_type": "code",
   "execution_count": 9,
   "metadata": {},
   "outputs": [],
   "source": [
    "lenta['Day of week'] = lenta.Date.apply(lambda x: pd.to_datetime(x).strftime('%A'))"
   ]
  },
  {
   "cell_type": "code",
   "execution_count": 10,
   "metadata": {},
   "outputs": [],
   "source": [
    "stemmer = SnowballStemmer('russian')"
   ]
  },
  {
   "cell_type": "code",
   "execution_count": 11,
   "metadata": {},
   "outputs": [],
   "source": [
    "def process_text(text):\n",
    "    return [stemmer.stem(word) for word in word_tokenize(text.lower()) if word not in string.punctuation]"
   ]
  },
  {
   "cell_type": "code",
   "execution_count": 12,
   "metadata": {},
   "outputs": [],
   "source": [
    "lenta['text'] = lenta['Title'].apply(process_text)"
   ]
  },
  {
   "cell_type": "code",
   "execution_count": 13,
   "metadata": {
    "scrolled": true
   },
   "outputs": [
    {
     "data": {
      "text/plain": [
       "['twitter', 'оцен', 'в', '11', 'миллиард', 'доллар']"
      ]
     },
     "execution_count": 13,
     "metadata": {},
     "output_type": "execute_result"
    }
   ],
   "source": [
    "lenta.iloc[298].text"
   ]
  },
  {
   "cell_type": "code",
   "execution_count": 14,
   "metadata": {},
   "outputs": [],
   "source": [
    "lenta['Date'] = lenta.Date.apply(lambda x: pd.to_datetime(x))"
   ]
  },
  {
   "cell_type": "code",
   "execution_count": 15,
   "metadata": {},
   "outputs": [],
   "source": [
    "train = lenta[lenta.Date < pd.to_datetime('2021-01-01')]\n",
    "test = lenta[lenta.Date >= pd.to_datetime('2021-01-01')]"
   ]
  },
  {
   "cell_type": "code",
   "execution_count": 16,
   "metadata": {},
   "outputs": [
    {
     "data": {
      "text/html": [
       "<div>\n",
       "<style scoped>\n",
       "    .dataframe tbody tr th:only-of-type {\n",
       "        vertical-align: middle;\n",
       "    }\n",
       "\n",
       "    .dataframe tbody tr th {\n",
       "        vertical-align: top;\n",
       "    }\n",
       "\n",
       "    .dataframe thead th {\n",
       "        text-align: right;\n",
       "    }\n",
       "</style>\n",
       "<table border=\"1\" class=\"dataframe\">\n",
       "  <thead>\n",
       "    <tr style=\"text-align: right;\">\n",
       "      <th></th>\n",
       "      <th>Title</th>\n",
       "      <th>Date</th>\n",
       "      <th>Day of week</th>\n",
       "      <th>text</th>\n",
       "    </tr>\n",
       "  </thead>\n",
       "  <tbody>\n",
       "    <tr>\n",
       "      <th>480815</th>\n",
       "      <td>«Мы молились, чтобы просто выбраться оттуда»В ...</td>\n",
       "      <td>2021-01-01</td>\n",
       "      <td>Friday</td>\n",
       "      <td>[«, мы, мол, чтоб, прост, выбра, оттуд, », в, ...</td>\n",
       "    </tr>\n",
       "    <tr>\n",
       "      <th>480816</th>\n",
       "      <td>В России вступили в силу новые санитарные треб...</td>\n",
       "      <td>2021-01-01</td>\n",
       "      <td>Friday</td>\n",
       "      <td>[в, росс, вступ, в, сил, нов, санитарн, требов...</td>\n",
       "    </tr>\n",
       "    <tr>\n",
       "      <th>480817</th>\n",
       "      <td>Опубликовано видео новогоднего салюта в Москве</td>\n",
       "      <td>2021-01-01</td>\n",
       "      <td>Friday</td>\n",
       "      <td>[опубликова, виде, новогодн, салют, в, москв]</td>\n",
       "    </tr>\n",
       "    <tr>\n",
       "      <th>480818</th>\n",
       "      <td>Лукашенко поздравил белорусов с Новым годом вм...</td>\n",
       "      <td>2021-01-01</td>\n",
       "      <td>Friday</td>\n",
       "      <td>[лукашенк, поздрав, белорус, с, нов, год, вмес...</td>\n",
       "    </tr>\n",
       "    <tr>\n",
       "      <th>480819</th>\n",
       "      <td>Дед Мороз и Снегурочка попали в ДТП в российск...</td>\n",
       "      <td>2021-01-01</td>\n",
       "      <td>Friday</td>\n",
       "      <td>[дед, мороз, и, снегурочк, попа, в, дтп, в, ро...</td>\n",
       "    </tr>\n",
       "    <tr>\n",
       "      <th>...</th>\n",
       "      <td>...</td>\n",
       "      <td>...</td>\n",
       "      <td>...</td>\n",
       "      <td>...</td>\n",
       "    </tr>\n",
       "    <tr>\n",
       "      <th>494721</th>\n",
       "      <td>ФСБ поймала преступников с миллионами рублей и...</td>\n",
       "      <td>2021-03-19</td>\n",
       "      <td>Friday</td>\n",
       "      <td>[фсб, пойма, преступник, с, миллион, рубл, и, ...</td>\n",
       "    </tr>\n",
       "    <tr>\n",
       "      <th>494722</th>\n",
       "      <td>Лукашенко раскрыл подробности «обещания» Путин...</td>\n",
       "      <td>2021-03-19</td>\n",
       "      <td>Friday</td>\n",
       "      <td>[лукашенк, раскр, подробн, «, обещан, », путин...</td>\n",
       "    </tr>\n",
       "    <tr>\n",
       "      <th>494723</th>\n",
       "      <td>Nvidia выпустила видеокарту для майнинга</td>\n",
       "      <td>2021-03-19</td>\n",
       "      <td>Friday</td>\n",
       "      <td>[nvidia, выпуст, видеокарт, для, майнинг]</td>\n",
       "    </tr>\n",
       "    <tr>\n",
       "      <th>494724</th>\n",
       "      <td>Путин утвердил пятерку нового состава ЦИК</td>\n",
       "      <td>2021-03-19</td>\n",
       "      <td>Friday</td>\n",
       "      <td>[путин, утверд, пятерк, нов, состав, цик]</td>\n",
       "    </tr>\n",
       "    <tr>\n",
       "      <th>494725</th>\n",
       "      <td>«Спутник V» зарегистрировали на Сейшелах</td>\n",
       "      <td>2021-03-19</td>\n",
       "      <td>Friday</td>\n",
       "      <td>[«, спутник, v, », зарегистрирова, на, сейшел]</td>\n",
       "    </tr>\n",
       "  </tbody>\n",
       "</table>\n",
       "<p>13911 rows × 4 columns</p>\n",
       "</div>"
      ],
      "text/plain": [
       "                                                    Title       Date  \\\n",
       "480815  «Мы молились, чтобы просто выбраться оттуда»В ... 2021-01-01   \n",
       "480816  В России вступили в силу новые санитарные треб... 2021-01-01   \n",
       "480817     Опубликовано видео новогоднего салюта в Москве 2021-01-01   \n",
       "480818  Лукашенко поздравил белорусов с Новым годом вм... 2021-01-01   \n",
       "480819  Дед Мороз и Снегурочка попали в ДТП в российск... 2021-01-01   \n",
       "...                                                   ...        ...   \n",
       "494721  ФСБ поймала преступников с миллионами рублей и... 2021-03-19   \n",
       "494722  Лукашенко раскрыл подробности «обещания» Путин... 2021-03-19   \n",
       "494723           Nvidia выпустила видеокарту для майнинга 2021-03-19   \n",
       "494724          Путин утвердил пятерку нового состава ЦИК 2021-03-19   \n",
       "494725           «Спутник V» зарегистрировали на Сейшелах 2021-03-19   \n",
       "\n",
       "       Day of week                                               text  \n",
       "480815      Friday  [«, мы, мол, чтоб, прост, выбра, оттуд, », в, ...  \n",
       "480816      Friday  [в, росс, вступ, в, сил, нов, санитарн, требов...  \n",
       "480817      Friday      [опубликова, виде, новогодн, салют, в, москв]  \n",
       "480818      Friday  [лукашенк, поздрав, белорус, с, нов, год, вмес...  \n",
       "480819      Friday  [дед, мороз, и, снегурочк, попа, в, дтп, в, ро...  \n",
       "...            ...                                                ...  \n",
       "494721      Friday  [фсб, пойма, преступник, с, миллион, рубл, и, ...  \n",
       "494722      Friday  [лукашенк, раскр, подробн, «, обещан, », путин...  \n",
       "494723      Friday          [nvidia, выпуст, видеокарт, для, майнинг]  \n",
       "494724      Friday          [путин, утверд, пятерк, нов, состав, цик]  \n",
       "494725      Friday     [«, спутник, v, », зарегистрирова, на, сейшел]  \n",
       "\n",
       "[13911 rows x 4 columns]"
      ]
     },
     "execution_count": 16,
     "metadata": {},
     "output_type": "execute_result"
    }
   ],
   "source": [
    "test"
   ]
  },
  {
   "cell_type": "code",
   "execution_count": 17,
   "metadata": {},
   "outputs": [],
   "source": [
    "def item_to_str(text):\n",
    "    s = ''\n",
    "    for i in tqdm(range(len(text))):\n",
    "        s = s + ' '\n",
    "        for j in range(len(text[i])):\n",
    "            s = s + str(text[i][j]) \n",
    "    return s[1:]"
   ]
  },
  {
   "cell_type": "code",
   "execution_count": 18,
   "metadata": {},
   "outputs": [
    {
     "name": "stderr",
     "output_type": "stream",
     "text": [
      "100%|██████████| 494726/494726 [02:07<00:00, 3886.03it/s]\n"
     ]
    }
   ],
   "source": [
    "tokens = item_to_str(lenta.text.apply(lambda x: ' '.join(x))).split()"
   ]
  },
  {
   "cell_type": "code",
   "execution_count": 19,
   "metadata": {},
   "outputs": [],
   "source": [
    "transform = TfidfVectorizer(ngram_range=(1,1), use_idf = True)\n",
    "transform = transform.fit(tokens)\n",
    "train_tfidf = transform.transform(train['text'].apply(lambda x: ' '.join(x)))"
   ]
  },
  {
   "cell_type": "code",
   "execution_count": 20,
   "metadata": {},
   "outputs": [],
   "source": [
    "dict_idf = dict(zip(transform.get_feature_names(), transform.idf_))"
   ]
  },
  {
   "cell_type": "code",
   "execution_count": 21,
   "metadata": {},
   "outputs": [],
   "source": [
    "train['tfidf'] = train_tfidf"
   ]
  },
  {
   "cell_type": "code",
   "execution_count": 22,
   "metadata": {},
   "outputs": [
    {
     "name": "stderr",
     "output_type": "stream",
     "text": [
      "100%|██████████| 480815/480815 [35:48<00:00, 223.76it/s] \n"
     ]
    }
   ],
   "source": [
    "for x in tqdm(range(len(train))):\n",
    "    train['tfidf'].iloc[x] = train_tfidf[x]"
   ]
  },
  {
   "cell_type": "code",
   "execution_count": 23,
   "metadata": {},
   "outputs": [],
   "source": [
    "exp = train.groupby('Date')['tfidf'].sum()"
   ]
  },
  {
   "cell_type": "code",
   "execution_count": 24,
   "metadata": {},
   "outputs": [],
   "source": [
    "exp = pd.DataFrame(exp)"
   ]
  },
  {
   "cell_type": "code",
   "execution_count": 25,
   "metadata": {},
   "outputs": [
    {
     "data": {
      "text/plain": [
       "<1x90754 sparse matrix of type '<class 'numpy.float64'>'\n",
       "\twith 184 stored elements in Compressed Sparse Row format>"
      ]
     },
     "execution_count": 25,
     "metadata": {},
     "output_type": "execute_result"
    }
   ],
   "source": [
    "exp.iloc[5].tfidf"
   ]
  },
  {
   "cell_type": "code",
   "execution_count": 26,
   "metadata": {},
   "outputs": [
    {
     "data": {
      "text/html": [
       "<div>\n",
       "<style scoped>\n",
       "    .dataframe tbody tr th:only-of-type {\n",
       "        vertical-align: middle;\n",
       "    }\n",
       "\n",
       "    .dataframe tbody tr th {\n",
       "        vertical-align: top;\n",
       "    }\n",
       "\n",
       "    .dataframe thead th {\n",
       "        text-align: right;\n",
       "    }\n",
       "</style>\n",
       "<table border=\"1\" class=\"dataframe\">\n",
       "  <thead>\n",
       "    <tr style=\"text-align: right;\">\n",
       "      <th></th>\n",
       "      <th>tfidf</th>\n",
       "      <th>Date</th>\n",
       "    </tr>\n",
       "    <tr>\n",
       "      <th>Date</th>\n",
       "      <th></th>\n",
       "      <th></th>\n",
       "    </tr>\n",
       "  </thead>\n",
       "  <tbody>\n",
       "    <tr>\n",
       "      <th>2013-01-01</th>\n",
       "      <td>(0, 57635)\\t0.47159338921666355\\n  (0, 71120...</td>\n",
       "      <td>2013-01-01</td>\n",
       "    </tr>\n",
       "    <tr>\n",
       "      <th>2013-01-02</th>\n",
       "      <td>(0, 13142)\\t0.37380564905483105\\n  (0, 28882...</td>\n",
       "      <td>2013-01-02</td>\n",
       "    </tr>\n",
       "    <tr>\n",
       "      <th>2013-01-03</th>\n",
       "      <td>(0, 12150)\\t0.30733934375925764\\n  (0, 22720...</td>\n",
       "      <td>2013-01-03</td>\n",
       "    </tr>\n",
       "    <tr>\n",
       "      <th>2013-01-04</th>\n",
       "      <td>(0, 52098)\\t0.4721162891228066\\n  (0, 52560)...</td>\n",
       "      <td>2013-01-04</td>\n",
       "    </tr>\n",
       "    <tr>\n",
       "      <th>2013-01-05</th>\n",
       "      <td>(0, 24728)\\t0.5147234323270747\\n  (0, 56023)...</td>\n",
       "      <td>2013-01-05</td>\n",
       "    </tr>\n",
       "    <tr>\n",
       "      <th>...</th>\n",
       "      <td>...</td>\n",
       "      <td>...</td>\n",
       "    </tr>\n",
       "    <tr>\n",
       "      <th>2020-12-27</th>\n",
       "      <td>(0, 71012)\\t0.5258598270359802\\n  (0, 77767)...</td>\n",
       "      <td>2020-12-27</td>\n",
       "    </tr>\n",
       "    <tr>\n",
       "      <th>2020-12-28</th>\n",
       "      <td>(0, 56463)\\t0.34610262970485084\\n  (0, 62880...</td>\n",
       "      <td>2020-12-28</td>\n",
       "    </tr>\n",
       "    <tr>\n",
       "      <th>2020-12-29</th>\n",
       "      <td>(0, 31958)\\t0.3790789512660071\\n  (0, 56765)...</td>\n",
       "      <td>2020-12-29</td>\n",
       "    </tr>\n",
       "    <tr>\n",
       "      <th>2020-12-30</th>\n",
       "      <td>(0, 14560)\\t0.39257895274627275\\n  (0, 30809...</td>\n",
       "      <td>2020-12-30</td>\n",
       "    </tr>\n",
       "    <tr>\n",
       "      <th>2020-12-31</th>\n",
       "      <td>(0, 16457)\\t0.2965740690078208\\n  (0, 63876)...</td>\n",
       "      <td>2020-12-31</td>\n",
       "    </tr>\n",
       "  </tbody>\n",
       "</table>\n",
       "<p>2922 rows × 2 columns</p>\n",
       "</div>"
      ],
      "text/plain": [
       "                                                        tfidf       Date\n",
       "Date                                                                    \n",
       "2013-01-01    (0, 57635)\\t0.47159338921666355\\n  (0, 71120... 2013-01-01\n",
       "2013-01-02    (0, 13142)\\t0.37380564905483105\\n  (0, 28882... 2013-01-02\n",
       "2013-01-03    (0, 12150)\\t0.30733934375925764\\n  (0, 22720... 2013-01-03\n",
       "2013-01-04    (0, 52098)\\t0.4721162891228066\\n  (0, 52560)... 2013-01-04\n",
       "2013-01-05    (0, 24728)\\t0.5147234323270747\\n  (0, 56023)... 2013-01-05\n",
       "...                                                       ...        ...\n",
       "2020-12-27    (0, 71012)\\t0.5258598270359802\\n  (0, 77767)... 2020-12-27\n",
       "2020-12-28    (0, 56463)\\t0.34610262970485084\\n  (0, 62880... 2020-12-28\n",
       "2020-12-29    (0, 31958)\\t0.3790789512660071\\n  (0, 56765)... 2020-12-29\n",
       "2020-12-30    (0, 14560)\\t0.39257895274627275\\n  (0, 30809... 2020-12-30\n",
       "2020-12-31    (0, 16457)\\t0.2965740690078208\\n  (0, 63876)... 2020-12-31\n",
       "\n",
       "[2922 rows x 2 columns]"
      ]
     },
     "execution_count": 26,
     "metadata": {},
     "output_type": "execute_result"
    }
   ],
   "source": [
    "exp['Date'] = exp.index\n",
    "exp"
   ]
  },
  {
   "cell_type": "code",
   "execution_count": 27,
   "metadata": {},
   "outputs": [],
   "source": [
    "exp['Day of week'] = exp.Date.apply(lambda x: pd.to_datetime(x).strftime('%A'))"
   ]
  },
  {
   "cell_type": "code",
   "execution_count": 28,
   "metadata": {},
   "outputs": [
    {
     "data": {
      "text/plain": [
       "'Thursday'"
      ]
     },
     "execution_count": 28,
     "metadata": {},
     "output_type": "execute_result"
    }
   ],
   "source": [
    "exp.iloc[9]['Day of week']"
   ]
  },
  {
   "cell_type": "code",
   "execution_count": 29,
   "metadata": {},
   "outputs": [
    {
     "name": "stderr",
     "output_type": "stream",
     "text": [
      "100%|██████████| 2922/2922 [00:02<00:00, 1173.88it/s]\n"
     ]
    }
   ],
   "source": [
    "for x in tqdm(range(len(exp))):\n",
    "    if exp.iloc[x]['Day of week'] == 'Friday':\n",
    "        if exp.iloc[x + 1]['Day of week'] == 'Saturday' or exp.iloc[x + 1]['Day of week'] == 'Sunday':\n",
    "            exp.iloc[x]['tfidf'] += exp.iloc[x + 1]['tfidf']\n",
    "        if exp.iloc[x + 2]['Day of week'] == 'Sunday':\n",
    "            exp.iloc[x]['tfidf'] += exp.iloc[x + 2]['tfidf']"
   ]
  },
  {
   "cell_type": "code",
   "execution_count": 30,
   "metadata": {},
   "outputs": [],
   "source": [
    "exp1 = exp[exp['Day of week'] != 'Saturday']\n",
    "exp1 = exp1[exp1['Day of week'] != 'Sunday']"
   ]
  },
  {
   "cell_type": "code",
   "execution_count": 31,
   "metadata": {},
   "outputs": [
    {
     "data": {
      "text/plain": [
       "<1x90754 sparse matrix of type '<class 'numpy.float64'>'\n",
       "\twith 920 stored elements in Compressed Sparse Row format>"
      ]
     },
     "execution_count": 31,
     "metadata": {},
     "output_type": "execute_result"
    }
   ],
   "source": [
    "exp1['tfidf'][220]"
   ]
  },
  {
   "cell_type": "code",
   "execution_count": 32,
   "metadata": {},
   "outputs": [],
   "source": [
    "m = pd.read_csv('moex.me.csv', delimiter = ';', error_bad_lines = False)\n",
    "m = m[m.High.notna()]\n",
    "m = m[['Date', 'High']]"
   ]
  },
  {
   "cell_type": "code",
   "execution_count": 33,
   "metadata": {},
   "outputs": [
    {
     "data": {
      "text/plain": [
       "'04.03.2013'"
      ]
     },
     "execution_count": 33,
     "metadata": {},
     "output_type": "execute_result"
    }
   ],
   "source": [
    "m['Date'][0]"
   ]
  },
  {
   "cell_type": "code",
   "execution_count": 34,
   "metadata": {},
   "outputs": [],
   "source": [
    "m['Date'] = m['Date'].apply(lambda x: x[-4:] + '-' + x[-7:-5] + '-' + x[:2])"
   ]
  },
  {
   "cell_type": "code",
   "execution_count": 35,
   "metadata": {},
   "outputs": [],
   "source": [
    "m['Date'] = pd.to_datetime(m['Date'])"
   ]
  },
  {
   "cell_type": "code",
   "execution_count": 36,
   "metadata": {},
   "outputs": [],
   "source": [
    "exp1.Date = pd.to_datetime(exp1.Date)"
   ]
  },
  {
   "cell_type": "code",
   "execution_count": 37,
   "metadata": {},
   "outputs": [],
   "source": [
    "exp1.reset_index(drop = True, inplace = True)"
   ]
  },
  {
   "cell_type": "code",
   "execution_count": 38,
   "metadata": {},
   "outputs": [],
   "source": [
    "exp_tfidf = exp1.iloc[exp1[exp1['Date'] == pd.to_datetime(m.iloc[0].Date)].index[0] - 1]['tfidf']\n",
    "for i in range(1, len(m)):\n",
    "    exp_tfidf = np.append(exp_tfidf, exp1.iloc[exp1[exp1['Date'] == pd.to_datetime(m.iloc[i].Date)].index[0] - 1]['tfidf'])"
   ]
  },
  {
   "cell_type": "code",
   "execution_count": 39,
   "metadata": {},
   "outputs": [
    {
     "name": "stderr",
     "output_type": "stream",
     "text": [
      "100%|██████████| 1923/1923 [00:00<00:00, 3521.08it/s]\n"
     ]
    }
   ],
   "source": [
    "m['tfidf'] = exp_tfidf\n",
    "for i in tqdm(range(len(m))):\n",
    "    m.iloc[i]['tfidf'] = exp_tfidf[i]"
   ]
  },
  {
   "cell_type": "code",
   "execution_count": 40,
   "metadata": {},
   "outputs": [
    {
     "data": {
      "text/plain": [
       "array([[1477.27002 ],\n",
       "       [1486.72998 ],\n",
       "       [1498.02002 ],\n",
       "       ...,\n",
       "       [3275.679932],\n",
       "       [3318.389893],\n",
       "       [3283.320068]])"
      ]
     },
     "execution_count": 40,
     "metadata": {},
     "output_type": "execute_result"
    }
   ],
   "source": [
    "score = np.array([m['High']]).reshape(-1, 1)\n",
    "score"
   ]
  },
  {
   "cell_type": "code",
   "execution_count": 41,
   "metadata": {},
   "outputs": [],
   "source": [
    "lr_tfidf = exp_tfidf[0]\n",
    "for i in range(1, len(exp_tfidf) - 15):\n",
    "    lr_tfidf = scipy.sparse.vstack([lr_tfidf, exp_tfidf[i]])"
   ]
  },
  {
   "cell_type": "code",
   "execution_count": 42,
   "metadata": {},
   "outputs": [],
   "source": [
    "lr_tfidf_test = exp_tfidf[-15]\n",
    "for i in range(1, 15):\n",
    "    lr_tfidf_test = scipy.sparse.vstack([lr_tfidf_test, exp_tfidf[-15 + i]])"
   ]
  },
  {
   "cell_type": "markdown",
   "metadata": {},
   "source": [
    "Разные модели:\n",
    "\n",
    "- LinearRegression - 7,44\n",
    "\n",
    "- Ridge(1) - 7,439\n",
    "\n",
    "- Lasso(17) - 6,33"
   ]
  },
  {
   "cell_type": "code",
   "execution_count": 89,
   "metadata": {},
   "outputs": [],
   "source": [
    "#LR, Ridge(22)\n",
    "lr = Ridge(1)\n",
    "lr.fit(lr_tfidf, score[:-15])\n",
    "y_pred = lr.predict(lr_tfidf_test)"
   ]
  },
  {
   "cell_type": "code",
   "execution_count": 90,
   "metadata": {
    "scrolled": true
   },
   "outputs": [
    {
     "data": {
      "text/plain": [
       "7.439370447708981"
      ]
     },
     "execution_count": 90,
     "metadata": {},
     "output_type": "execute_result"
    }
   ],
   "source": [
    "(100 * np.abs(y_pred - score.reshape(-1, 1)[-15:]) / (score.reshape(-1, 1)[-15:])).mean()"
   ]
  },
  {
   "cell_type": "markdown",
   "metadata": {},
   "source": [
    "Lasso показывает куда лучшие резул"
   ]
  }
 ],
 "metadata": {
  "kernelspec": {
   "display_name": "MyPython",
   "language": "python",
   "name": "mypython"
  },
  "language_info": {
   "codemirror_mode": {
    "name": "ipython",
    "version": 3
   },
   "file_extension": ".py",
   "mimetype": "text/x-python",
   "name": "python",
   "nbconvert_exporter": "python",
   "pygments_lexer": "ipython3",
   "version": "3.8.5"
  }
 },
 "nbformat": 4,
 "nbformat_minor": 4
}
