{
 "cells": [
  {
   "cell_type": "code",
   "execution_count": 1,
   "metadata": {},
   "outputs": [],
   "source": [
    "import requests"
   ]
  },
  {
   "cell_type": "code",
   "execution_count": 2,
   "metadata": {},
   "outputs": [
    {
     "data": {
      "text/plain": [
       "<Response [200]>"
      ]
     },
     "execution_count": 2,
     "metadata": {},
     "output_type": "execute_result"
    }
   ],
   "source": [
    "url = 'https://lenta.ru/2013/03/01/'\n",
    "response = requests.get(url)\n",
    "response"
   ]
  },
  {
   "cell_type": "code",
   "execution_count": 3,
   "metadata": {},
   "outputs": [
    {
     "data": {
      "text/plain": [
       "False"
      ]
     },
     "execution_count": 3,
     "metadata": {},
     "output_type": "execute_result"
    }
   ],
   "source": [
    "response.status_code == 404"
   ]
  },
  {
   "cell_type": "code",
   "execution_count": 4,
   "metadata": {},
   "outputs": [],
   "source": [
    "from bs4 import BeautifulSoup\n",
    "\n",
    "tree = BeautifulSoup(response.content, 'html.parser')"
   ]
  },
  {
   "cell_type": "code",
   "execution_count": 5,
   "metadata": {},
   "outputs": [
    {
     "data": {
      "text/plain": [
       "'Воробьев отменил покупку «Лексусов» администрацией Ногинска'"
      ]
     },
     "execution_count": 5,
     "metadata": {},
     "output_type": "execute_result"
    }
   ],
   "source": [
    "tree.find_all(\"div\", {\"class\":\"titles\"})[0].text"
   ]
  },
  {
   "cell_type": "code",
   "execution_count": 6,
   "metadata": {},
   "outputs": [
    {
     "data": {
      "text/plain": [
       "'01:01'"
      ]
     },
     "execution_count": 6,
     "metadata": {},
     "output_type": "execute_result"
    }
   ],
   "source": [
    "tree.find_all(\"span\", {\"class\":\"g-date item__date\"})[0].text.split(' —  ')[0]"
   ]
  },
  {
   "cell_type": "code",
   "execution_count": 7,
   "metadata": {},
   "outputs": [],
   "source": [
    "urls = []\n",
    "for y in range(2013, 2021):\n",
    "    for m in range(1, 13):\n",
    "        for d in range(1, 32):\n",
    "            if m < 10:\n",
    "                if d < 10:\n",
    "                    url = f'https://lenta.ru/{y}/0{m}/0{d}/'\n",
    "                else:\n",
    "                    url = f'https://lenta.ru/{y}/0{m}/{d}/'\n",
    "            elif d < 10:\n",
    "                url = f'https://lenta.ru/{y}/{m}/0{d}/'\n",
    "            else:\n",
    "                url = f'https://lenta.ru/{y}/{m}/{d}/'\n",
    "            urls.append(url)\n",
    "for m in range(1, 4):\n",
    "    for d in range(1, 20):\n",
    "        if d < 10:\n",
    "            url = f'https://lenta.ru/2021/0{m}/0{d}/'\n",
    "        else:\n",
    "            url = f'https://lenta.ru/2021/0{m}/{d}/'\n",
    "        urls.append(url)"
   ]
  },
  {
   "cell_type": "code",
   "execution_count": 8,
   "metadata": {},
   "outputs": [],
   "source": [
    "from tqdm import tqdm\n",
    "import pandas as pd"
   ]
  },
  {
   "cell_type": "code",
   "execution_count": 9,
   "metadata": {},
   "outputs": [
    {
     "data": {
      "text/plain": [
       "1000"
      ]
     },
     "execution_count": 9,
     "metadata": {},
     "output_type": "execute_result"
    }
   ],
   "source": [
    "len(urls[:1000])"
   ]
  },
  {
   "cell_type": "code",
   "execution_count": 10,
   "metadata": {},
   "outputs": [
    {
     "data": {
      "text/plain": [
       "1000"
      ]
     },
     "execution_count": 10,
     "metadata": {},
     "output_type": "execute_result"
    }
   ],
   "source": [
    "len(urls[1000:2000])"
   ]
  },
  {
   "cell_type": "code",
   "execution_count": 11,
   "metadata": {},
   "outputs": [
    {
     "data": {
      "text/plain": [
       "1033"
      ]
     },
     "execution_count": 11,
     "metadata": {},
     "output_type": "execute_result"
    }
   ],
   "source": [
    "len(urls[2000:])"
   ]
  },
  {
   "cell_type": "raw",
   "metadata": {},
   "source": [
    "infa = [ ]\n",
    "for url in tqdm(urls[:1000]):\n",
    "    response = requests.get(url)\n",
    "    if response.status_code == 404:\n",
    "        pass\n",
    "    else:\n",
    "        tree = BeautifulSoup(response.content, 'html.parser')\n",
    "        titles = tree.find_all(\"div\", {\"class\":\"titles\"})\n",
    "        times = tree.find_all(\"span\", {\"class\":\"g-date item__date\"})\n",
    "        for i in range(len(titles)):\n",
    "            try:\n",
    "                title = titles[i].text\n",
    "                time = times[i].text.split(' —  ')[0]\n",
    "                infa.append({\n",
    "                    'Title': title,\n",
    "                    'Time':time,\n",
    "                    'Date': url.split('ru/')[-1]\n",
    "                })\n",
    "            except:\n",
    "                pass "
   ]
  },
  {
   "cell_type": "code",
   "execution_count": null,
   "metadata": {},
   "outputs": [
    {
     "name": "stderr",
     "output_type": "stream",
     "text": [
      " 24%|██▍       | 497/2033 [27:59<1:01:49,  2.41s/it]"
     ]
    }
   ],
   "source": [
    "for url in tqdm(urls[1000:]):\n",
    "    response = requests.get(url)\n",
    "    if response.status_code == 404:\n",
    "        pass\n",
    "    else:\n",
    "        tree = BeautifulSoup(response.content, 'html.parser')\n",
    "        titles = tree.find_all(\"div\", {\"class\":\"titles\"})\n",
    "        times = tree.find_all(\"span\", {\"class\":\"g-date item__date\"})\n",
    "        for i in range(len(titles)):\n",
    "            try:\n",
    "                title = titles[i].text\n",
    "                time = times[i].text.split(' —  ')[0]\n",
    "                infa.append({\n",
    "                    'Title': title,\n",
    "                    'Time':time,\n",
    "                    'Date': url.split('ru/')[-1]\n",
    "                })\n",
    "            except:\n",
    "                pass "
   ]
  },
  {
   "cell_type": "code",
   "execution_count": 64,
   "metadata": {},
   "outputs": [
    {
     "data": {
      "text/plain": [
       "494726"
      ]
     },
     "execution_count": 64,
     "metadata": {},
     "output_type": "execute_result"
    }
   ],
   "source": [
    "len(infa)"
   ]
  },
  {
   "cell_type": "code",
   "execution_count": 65,
   "metadata": {},
   "outputs": [
    {
     "data": {
      "text/html": [
       "<div>\n",
       "<style scoped>\n",
       "    .dataframe tbody tr th:only-of-type {\n",
       "        vertical-align: middle;\n",
       "    }\n",
       "\n",
       "    .dataframe tbody tr th {\n",
       "        vertical-align: top;\n",
       "    }\n",
       "\n",
       "    .dataframe thead th {\n",
       "        text-align: right;\n",
       "    }\n",
       "</style>\n",
       "<table border=\"1\" class=\"dataframe\">\n",
       "  <thead>\n",
       "    <tr style=\"text-align: right;\">\n",
       "      <th></th>\n",
       "      <th>Title</th>\n",
       "      <th>Time</th>\n",
       "      <th>Date</th>\n",
       "    </tr>\n",
       "  </thead>\n",
       "  <tbody>\n",
       "    <tr>\n",
       "      <th>0</th>\n",
       "      <td>На Триумфальной задержаны 22 активиста оппозиции</td>\n",
       "      <td>00:18</td>\n",
       "      <td>2013/01/01/</td>\n",
       "    </tr>\n",
       "    <tr>\n",
       "      <th>1</th>\n",
       "      <td>При взрыве на полигоне под Волгоградом погиб о...</td>\n",
       "      <td>14:07</td>\n",
       "      <td>2013/01/01/</td>\n",
       "    </tr>\n",
       "    <tr>\n",
       "      <th>2</th>\n",
       "      <td>Лидер КНДР впервые за 19 лет поздравил согражд...</td>\n",
       "      <td>14:44</td>\n",
       "      <td>2013/01/01/</td>\n",
       "    </tr>\n",
       "    <tr>\n",
       "      <th>3</th>\n",
       "      <td>Сенат США не допустит \"фискального обрыва\"</td>\n",
       "      <td>15:46</td>\n",
       "      <td>2013/01/01/</td>\n",
       "    </tr>\n",
       "    <tr>\n",
       "      <th>4</th>\n",
       "      <td>Хью Хефнер женился на сбежавшей невесте</td>\n",
       "      <td>17:30</td>\n",
       "      <td>2013/01/01/</td>\n",
       "    </tr>\n",
       "    <tr>\n",
       "      <th>...</th>\n",
       "      <td>...</td>\n",
       "      <td>...</td>\n",
       "      <td>...</td>\n",
       "    </tr>\n",
       "    <tr>\n",
       "      <th>494721</th>\n",
       "      <td>ФСБ поймала преступников с миллионами рублей и...</td>\n",
       "      <td>16:43 — Сегодня</td>\n",
       "      <td>2021/03/19/</td>\n",
       "    </tr>\n",
       "    <tr>\n",
       "      <th>494722</th>\n",
       "      <td>Лукашенко раскрыл подробности «обещания» Путин...</td>\n",
       "      <td>17:07 — Сегодня</td>\n",
       "      <td>2021/03/19/</td>\n",
       "    </tr>\n",
       "    <tr>\n",
       "      <th>494723</th>\n",
       "      <td>Nvidia выпустила видеокарту для майнинга</td>\n",
       "      <td>17:22 — Сегодня</td>\n",
       "      <td>2021/03/19/</td>\n",
       "    </tr>\n",
       "    <tr>\n",
       "      <th>494724</th>\n",
       "      <td>Путин утвердил пятерку нового состава ЦИК</td>\n",
       "      <td>17:35 — Сегодня</td>\n",
       "      <td>2021/03/19/</td>\n",
       "    </tr>\n",
       "    <tr>\n",
       "      <th>494725</th>\n",
       "      <td>«Спутник V» зарегистрировали на Сейшелах</td>\n",
       "      <td>17:50 — Сегодня</td>\n",
       "      <td>2021/03/19/</td>\n",
       "    </tr>\n",
       "  </tbody>\n",
       "</table>\n",
       "<p>494726 rows × 3 columns</p>\n",
       "</div>"
      ],
      "text/plain": [
       "                                                    Title             Time  \\\n",
       "0        На Триумфальной задержаны 22 активиста оппозиции            00:18   \n",
       "1       При взрыве на полигоне под Волгоградом погиб о...            14:07   \n",
       "2       Лидер КНДР впервые за 19 лет поздравил согражд...            14:44   \n",
       "3              Сенат США не допустит \"фискального обрыва\"            15:46   \n",
       "4                 Хью Хефнер женился на сбежавшей невесте            17:30   \n",
       "...                                                   ...              ...   \n",
       "494721  ФСБ поймала преступников с миллионами рублей и...  16:43 — Сегодня   \n",
       "494722  Лукашенко раскрыл подробности «обещания» Путин...  17:07 — Сегодня   \n",
       "494723           Nvidia выпустила видеокарту для майнинга  17:22 — Сегодня   \n",
       "494724          Путин утвердил пятерку нового состава ЦИК  17:35 — Сегодня   \n",
       "494725           «Спутник V» зарегистрировали на Сейшелах  17:50 — Сегодня   \n",
       "\n",
       "               Date  \n",
       "0       2013/01/01/  \n",
       "1       2013/01/01/  \n",
       "2       2013/01/01/  \n",
       "3       2013/01/01/  \n",
       "4       2013/01/01/  \n",
       "...             ...  \n",
       "494721  2021/03/19/  \n",
       "494722  2021/03/19/  \n",
       "494723  2021/03/19/  \n",
       "494724  2021/03/19/  \n",
       "494725  2021/03/19/  \n",
       "\n",
       "[494726 rows x 3 columns]"
      ]
     },
     "execution_count": 65,
     "metadata": {},
     "output_type": "execute_result"
    }
   ],
   "source": [
    "information = pd.DataFrame(infa)\n",
    "information"
   ]
  },
  {
   "cell_type": "code",
   "execution_count": 124,
   "metadata": {},
   "outputs": [
    {
     "data": {
      "text/html": [
       "<div>\n",
       "<style scoped>\n",
       "    .dataframe tbody tr th:only-of-type {\n",
       "        vertical-align: middle;\n",
       "    }\n",
       "\n",
       "    .dataframe tbody tr th {\n",
       "        vertical-align: top;\n",
       "    }\n",
       "\n",
       "    .dataframe thead th {\n",
       "        text-align: right;\n",
       "    }\n",
       "</style>\n",
       "<table border=\"1\" class=\"dataframe\">\n",
       "  <thead>\n",
       "    <tr style=\"text-align: right;\">\n",
       "      <th></th>\n",
       "      <th>Title</th>\n",
       "      <th>Time</th>\n",
       "      <th>Date</th>\n",
       "      <th>dt</th>\n",
       "      <th>dtt</th>\n",
       "    </tr>\n",
       "  </thead>\n",
       "  <tbody>\n",
       "    <tr>\n",
       "      <th>493826</th>\n",
       "      <td>«Спартак» заинтересовался 100-килограммовым ам...</td>\n",
       "      <td>22:42 — 16 марта</td>\n",
       "      <td>2021-03-16</td>\n",
       "      <td>2021/03/16/ 22:42 — 16 марта</td>\n",
       "      <td>2021/03/16/</td>\n",
       "    </tr>\n",
       "    <tr>\n",
       "      <th>493827</th>\n",
       "      <td>Италия и Франция заявили о готовности возобнов...</td>\n",
       "      <td>23:12 — 16 марта</td>\n",
       "      <td>2021-03-16</td>\n",
       "      <td>2021/03/16/ 23:12 — 16 марта</td>\n",
       "      <td>2021/03/16/</td>\n",
       "    </tr>\n",
       "    <tr>\n",
       "      <th>493828</th>\n",
       "      <td>США анонсировали санкции против России из-за «...</td>\n",
       "      <td>23:59 — 16 марта</td>\n",
       "      <td>2021-03-16</td>\n",
       "      <td>2021/03/16/ 23:59 — 16 марта</td>\n",
       "      <td>2021/03/16/</td>\n",
       "    </tr>\n",
       "    <tr>\n",
       "      <th>493829</th>\n",
       "      <td>«Союзные республики послали Москву на три букв...</td>\n",
       "      <td>00:0117 марта</td>\n",
       "      <td>2021-03-17</td>\n",
       "      <td>2021/03/17/ 00:0117 марта</td>\n",
       "      <td>2021/03/17/</td>\n",
       "    </tr>\n",
       "    <tr>\n",
       "      <th>493830</th>\n",
       "      <td>Скопинский маньяк и Собчак встретились в ресто...</td>\n",
       "      <td>00:11 — 17 марта</td>\n",
       "      <td>2021-03-17</td>\n",
       "      <td>2021/03/17/ 00:11 — 17 марта</td>\n",
       "      <td>2021/03/17/</td>\n",
       "    </tr>\n",
       "    <tr>\n",
       "      <th>...</th>\n",
       "      <td>...</td>\n",
       "      <td>...</td>\n",
       "      <td>...</td>\n",
       "      <td>...</td>\n",
       "      <td>...</td>\n",
       "    </tr>\n",
       "    <tr>\n",
       "      <th>494721</th>\n",
       "      <td>ФСБ поймала преступников с миллионами рублей и...</td>\n",
       "      <td>16:43 — Сегодня</td>\n",
       "      <td>2021-03-19</td>\n",
       "      <td>2021/03/19/ 16:43 — Сегодня</td>\n",
       "      <td>2021/03/19/</td>\n",
       "    </tr>\n",
       "    <tr>\n",
       "      <th>494722</th>\n",
       "      <td>Лукашенко раскрыл подробности «обещания» Путин...</td>\n",
       "      <td>17:07 — Сегодня</td>\n",
       "      <td>2021-03-19</td>\n",
       "      <td>2021/03/19/ 17:07 — Сегодня</td>\n",
       "      <td>2021/03/19/</td>\n",
       "    </tr>\n",
       "    <tr>\n",
       "      <th>494723</th>\n",
       "      <td>Nvidia выпустила видеокарту для майнинга</td>\n",
       "      <td>17:22 — Сегодня</td>\n",
       "      <td>2021-03-19</td>\n",
       "      <td>2021/03/19/ 17:22 — Сегодня</td>\n",
       "      <td>2021/03/19/</td>\n",
       "    </tr>\n",
       "    <tr>\n",
       "      <th>494724</th>\n",
       "      <td>Путин утвердил пятерку нового состава ЦИК</td>\n",
       "      <td>17:35 — Сегодня</td>\n",
       "      <td>2021-03-19</td>\n",
       "      <td>2021/03/19/ 17:35 — Сегодня</td>\n",
       "      <td>2021/03/19/</td>\n",
       "    </tr>\n",
       "    <tr>\n",
       "      <th>494725</th>\n",
       "      <td>«Спутник V» зарегистрировали на Сейшелах</td>\n",
       "      <td>17:50 — Сегодня</td>\n",
       "      <td>2021-03-19</td>\n",
       "      <td>2021/03/19/ 17:50 — Сегодня</td>\n",
       "      <td>2021/03/19/</td>\n",
       "    </tr>\n",
       "  </tbody>\n",
       "</table>\n",
       "<p>900 rows × 5 columns</p>\n",
       "</div>"
      ],
      "text/plain": [
       "                                                    Title              Time  \\\n",
       "493826  «Спартак» заинтересовался 100-килограммовым ам...  22:42 — 16 марта   \n",
       "493827  Италия и Франция заявили о готовности возобнов...  23:12 — 16 марта   \n",
       "493828  США анонсировали санкции против России из-за «...  23:59 — 16 марта   \n",
       "493829  «Союзные республики послали Москву на три букв...     00:0117 марта   \n",
       "493830  Скопинский маньяк и Собчак встретились в ресто...  00:11 — 17 марта   \n",
       "...                                                   ...               ...   \n",
       "494721  ФСБ поймала преступников с миллионами рублей и...   16:43 — Сегодня   \n",
       "494722  Лукашенко раскрыл подробности «обещания» Путин...   17:07 — Сегодня   \n",
       "494723           Nvidia выпустила видеокарту для майнинга   17:22 — Сегодня   \n",
       "494724          Путин утвердил пятерку нового состава ЦИК   17:35 — Сегодня   \n",
       "494725           «Спутник V» зарегистрировали на Сейшелах   17:50 — Сегодня   \n",
       "\n",
       "             Date                            dt          dtt  \n",
       "493826 2021-03-16  2021/03/16/ 22:42 — 16 марта  2021/03/16/  \n",
       "493827 2021-03-16  2021/03/16/ 23:12 — 16 марта  2021/03/16/  \n",
       "493828 2021-03-16  2021/03/16/ 23:59 — 16 марта  2021/03/16/  \n",
       "493829 2021-03-17     2021/03/17/ 00:0117 марта  2021/03/17/  \n",
       "493830 2021-03-17  2021/03/17/ 00:11 — 17 марта  2021/03/17/  \n",
       "...           ...                           ...          ...  \n",
       "494721 2021-03-19   2021/03/19/ 16:43 — Сегодня  2021/03/19/  \n",
       "494722 2021-03-19   2021/03/19/ 17:07 — Сегодня  2021/03/19/  \n",
       "494723 2021-03-19   2021/03/19/ 17:22 — Сегодня  2021/03/19/  \n",
       "494724 2021-03-19   2021/03/19/ 17:35 — Сегодня  2021/03/19/  \n",
       "494725 2021-03-19   2021/03/19/ 17:50 — Сегодня  2021/03/19/  \n",
       "\n",
       "[900 rows x 5 columns]"
      ]
     },
     "execution_count": 124,
     "metadata": {},
     "output_type": "execute_result"
    }
   ],
   "source": [
    "information.tail(900)"
   ]
  },
  {
   "cell_type": "code",
   "execution_count": 94,
   "metadata": {},
   "outputs": [],
   "source": [
    "import datetime"
   ]
  },
  {
   "cell_type": "code",
   "execution_count": 100,
   "metadata": {},
   "outputs": [],
   "source": [
    "information['Date'] = pd.to_datetime(information['Date'])"
   ]
  },
  {
   "cell_type": "code",
   "execution_count": 104,
   "metadata": {},
   "outputs": [],
   "source": [
    "result = information[['Title', 'Date']]"
   ]
  },
  {
   "cell_type": "code",
   "execution_count": 106,
   "metadata": {},
   "outputs": [
    {
     "data": {
      "text/plain": [
       "(494726, 2)"
      ]
     },
     "execution_count": 106,
     "metadata": {},
     "output_type": "execute_result"
    }
   ],
   "source": [
    "result.shape"
   ]
  },
  {
   "cell_type": "raw",
   "metadata": {},
   "source": [
    "result.to_csv('Lenta_news.csv')"
   ]
  }
 ],
 "metadata": {
  "kernelspec": {
   "display_name": "Python 3",
   "language": "python",
   "name": "python3"
  },
  "language_info": {
   "codemirror_mode": {
    "name": "ipython",
    "version": 3
   },
   "file_extension": ".py",
   "mimetype": "text/x-python",
   "name": "python",
   "nbconvert_exporter": "python",
   "pygments_lexer": "ipython3",
   "version": "3.7.6"
  }
 },
 "nbformat": 4,
 "nbformat_minor": 4
}
